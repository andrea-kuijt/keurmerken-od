{
 "cells": [
  {
   "cell_type": "code",
   "execution_count": null,
   "metadata": {},
   "outputs": [],
   "source": [
    "%matplotlib inline\n",
    "# warnings.filterwarnings('ignore')"
   ]
  },
  {
   "cell_type": "code",
   "execution_count": 0,
   "metadata": {
    "colab": {},
    "colab_type": "code",
    "id": "33aeSX5q-g4Y"
   },
   "outputs": [],
   "source": [
    "from fastai.vision import *\n",
    "import ssl\n",
    "import torch\n",
    "import numpy as np\n",
    "import torchvision.transforms as transforms\n",
    "ssl._create_default_https_context = ssl._create_unverified_context\n",
    "import zipfile\n",
    "from IPython.display import Image"
   ]
  },
  {
   "cell_type": "markdown",
   "metadata": {},
   "source": [
    "# Google Colab\n",
    "\n",
    "This section is used to mount Drive directories if this notebook is run in Colab."
   ]
  },
  {
   "cell_type": "code",
   "execution_count": 0,
   "metadata": {
    "colab": {},
    "colab_type": "code",
    "id": "vv5YUvsS-vVS"
   },
   "outputs": [],
   "source": [
    "# Load the Drive helper and mount\n",
    "from google.colab import drive, files\n",
    "\n",
    "# This will prompt for authorization.\n",
    "drive.mount('/content/drive')"
   ]
  },
  {
   "cell_type": "code",
   "execution_count": 0,
   "metadata": {
    "colab": {},
    "colab_type": "code",
    "id": "8vby9R65XPW6"
   },
   "outputs": [],
   "source": [
    "!ls \"/content/drive/Shared drives/Class 15\""
   ]
  },
  {
   "cell_type": "code",
   "execution_count": 0,
   "metadata": {
    "colab": {},
    "colab_type": "code",
    "id": "N8w5FPmi-5Oz"
   },
   "outputs": [],
   "source": [
    "# train set\n",
    "path = Path(\"/content/drive/Shared drives/Class 15/train-v6\") \n",
    "\n",
    "# # unzip file\n",
    "# path1 = path/'train-v4.zip'\n",
    "\n",
    "# with zipfile.ZipFile(path1, 'r') as zip_ref:\n",
    "#     zip_ref.extractall(path)"
   ]
  },
  {
   "cell_type": "code",
   "execution_count": 0,
   "metadata": {
    "colab": {},
    "colab_type": "code",
    "id": "HmDCBGB6Ar9O"
   },
   "outputs": [],
   "source": [
    "# Fill 'other' folder\n",
    "folder_other = 'other'\n",
    "file_other = 'other.csv'\n",
    "\n",
    "#path = Path('/content/drive/Shared drives/Class 15/train-v6')\n",
    "dest = path/folder_other \n",
    "dest.mkdir(parents=True, exist_ok=True)\n",
    "download_images(path/file_other, dest, max_pics=40, max_workers=0)\n",
    "\n",
    "# Check if the images in path aren't broken, maybe resize them and copy it in dest.\n",
    "verify_images(path/'other', delete=True, max_size=200)"
   ]
  },
  {
   "cell_type": "markdown",
   "metadata": {
    "colab_type": "text",
    "id": "-dLDyKnP-g4x"
   },
   "source": [
    "# View data"
   ]
  },
  {
   "cell_type": "code",
   "execution_count": 0,
   "metadata": {
    "colab": {},
    "colab_type": "code",
    "id": "UaHquYjBFdJE"
   },
   "outputs": [],
   "source": [
    "classes = ['asc',\n",
    " 'beterleven',\n",
    " 'demeter',\n",
    " 'ebio',\n",
    " 'eko',\n",
    " 'fairtrade',\n",
    " 'msc',\n",
    " 'other',\n",
    " 'ralliance',\n",
    " 'utz']"
   ]
  },
  {
   "cell_type": "code",
   "execution_count": 0,
   "metadata": {
    "colab": {},
    "colab_type": "code",
    "id": "CM4HrTkk-g4u"
   },
   "outputs": [],
   "source": [
    "# for c in classes:\n",
    "#     print(other)\n",
    "#     verify_images(path/'other', delete=True, max_size=50)"
   ]
  },
  {
   "cell_type": "code",
   "execution_count": 0,
   "metadata": {
    "colab": {},
    "colab_type": "code",
    "id": "uUkLzdQn-g4y"
   },
   "outputs": [],
   "source": [
    "np.random.seed(42)\n",
    "data = ImageDataBunch.from_folder(path, train=\".\", valid_pct=0.2, size=224, num_workers=4).normalize(imagenet_stats)"
   ]
  },
  {
   "cell_type": "code",
   "execution_count": 0,
   "metadata": {
    "colab": {},
    "colab_type": "code",
    "id": "1iwmJ4C7-g40"
   },
   "outputs": [],
   "source": [
    "data.classes"
   ]
  },
  {
   "cell_type": "code",
   "execution_count": 0,
   "metadata": {
    "colab": {},
    "colab_type": "code",
    "id": "NeLhRtQq-g46"
   },
   "outputs": [],
   "source": [
    "data.show_batch(rows=3, figsize=(7,8))"
   ]
  },
  {
   "cell_type": "code",
   "execution_count": 0,
   "metadata": {
    "colab": {},
    "colab_type": "code",
    "id": "7V8KBNv5-g49"
   },
   "outputs": [],
   "source": [
    "data.classes, data.c, len(data.train_ds), len(data.valid_ds)"
   ]
  },
  {
   "cell_type": "code",
   "execution_count": 0,
   "metadata": {
    "colab": {},
    "colab_type": "code",
    "id": "3Az9q-A0IVYB"
   },
   "outputs": [],
   "source": [
    "data.to_df()['y'].value_counts()"
   ]
  },
  {
   "cell_type": "markdown",
   "metadata": {
    "colab_type": "text",
    "id": "aOrItyKQd37N"
   },
   "source": [
    "## Data augmentation"
   ]
  },
  {
   "cell_type": "code",
   "execution_count": 0,
   "metadata": {
    "colab": {},
    "colab_type": "code",
    "id": "hTeA3zTyd-fu"
   },
   "outputs": [],
   "source": [
    "path1 = Path(\"/content/drive/Shared drives/Class 15/train-v6\") "
   ]
  },
  {
   "cell_type": "code",
   "execution_count": 0,
   "metadata": {
    "colab": {},
    "colab_type": "code",
    "id": "z_ikncVHd5YE"
   },
   "outputs": [],
   "source": [
    "data_aug = ImageDataBunch.from_folder(path1, train = \".\", valid_pct = 0.2, \n",
    "                         ds_tfms = get_transforms(do_flip=True, flip_vert=False, \n",
    "                         max_rotate=10.0, max_zoom=1.1, max_lighting=0.2, \n",
    "                         max_warp=0.2, p_affine=0.75, p_lighting=0.75, xtra_tfms=None), \n",
    "                         size=224, num_workers=4).normalize(imagenet_stats)\n",
    "\n",
    "#data_aug.show_batch(rows=3, figsize=(5,5))"
   ]
  },
  {
   "cell_type": "code",
   "execution_count": 0,
   "metadata": {
    "colab": {},
    "colab_type": "code",
    "id": "nPSp31ANd9N2"
   },
   "outputs": [],
   "source": [
    "# create a train.txt file \n",
    "!touch \"/content/drive/Shared drives/Class 15/train-v7\""
   ]
  },
  {
   "cell_type": "markdown",
   "metadata": {
    "colab_type": "text",
    "id": "RHKTPUfm-g5A"
   },
   "source": [
    "## Train model"
   ]
  },
  {
   "cell_type": "code",
   "execution_count": 0,
   "metadata": {
    "colab": {},
    "colab_type": "code",
    "id": "B-ALfsEF-g5B"
   },
   "outputs": [],
   "source": [
    "learn = cnn_learner(data_aug, models.resnet34, metrics=error_rate)"
   ]
  },
  {
   "cell_type": "code",
   "execution_count": 0,
   "metadata": {
    "colab": {},
    "colab_type": "code",
    "id": "M_qXkFr6fpl7"
   },
   "outputs": [],
   "source": [
    "learn.fit_one_cycle(4)"
   ]
  },
  {
   "cell_type": "code",
   "execution_count": 0,
   "metadata": {
    "colab": {},
    "colab_type": "code",
    "id": "X_LdRc-D6QKE"
   },
   "outputs": [],
   "source": [
    "learn.save('stage-1')\n",
    "learn.unfreeze()\n",
    "#learn.lr_find()"
   ]
  },
  {
   "cell_type": "code",
   "execution_count": 0,
   "metadata": {
    "colab": {},
    "colab_type": "code",
    "id": "HkFAuSvaLgx1"
   },
   "outputs": [],
   "source": [
    "# find learning rate\n",
    "learn.recorder.plot(suggestion = True)"
   ]
  },
  {
   "cell_type": "code",
   "execution_count": 0,
   "metadata": {
    "colab": {},
    "colab_type": "code",
    "id": "iieo9ra-LbFh"
   },
   "outputs": [],
   "source": [
    "learn.fit_one_cycle(12, max_lr=slice(1e-06, 1e-03))"
   ]
  },
  {
   "cell_type": "code",
   "execution_count": 0,
   "metadata": {
    "colab": {},
    "colab_type": "code",
    "id": "2HH_VHdR-g5S"
   },
   "outputs": [],
   "source": [
    "learn.save('stage-2')"
   ]
  },
  {
   "cell_type": "markdown",
   "metadata": {
    "colab_type": "text",
    "id": "kqdGWxeA-g5Z"
   },
   "source": [
    "## Interpretation"
   ]
  },
  {
   "cell_type": "code",
   "execution_count": 0,
   "metadata": {
    "colab": {},
    "colab_type": "code",
    "id": "JTpNT0s_-g5b"
   },
   "outputs": [],
   "source": [
    "#learn.load('stage-2')"
   ]
  },
  {
   "cell_type": "code",
   "execution_count": 0,
   "metadata": {
    "colab": {},
    "colab_type": "code",
    "id": "ZDjHvkZLQ_jA"
   },
   "outputs": [],
   "source": [
    "interp = ClassificationInterpretation.from_learner(learn)"
   ]
  },
  {
   "cell_type": "code",
   "execution_count": 0,
   "metadata": {
    "colab": {},
    "colab_type": "code",
    "id": "Xxr2mJAQRONx"
   },
   "outputs": [],
   "source": [
    "interp.plot_confusion_matrix()"
   ]
  },
  {
   "cell_type": "code",
   "execution_count": 0,
   "metadata": {
    "colab": {},
    "colab_type": "code",
    "id": "qomeNqD14rc6"
   },
   "outputs": [],
   "source": [
    "interp.most_confused(min_val=1)"
   ]
  },
  {
   "cell_type": "code",
   "execution_count": 0,
   "metadata": {
    "colab": {},
    "colab_type": "code",
    "id": "7B2MdLLmJGoK"
   },
   "outputs": [],
   "source": [
    "preds,y, loss = learn.get_preds(with_loss=True)\n",
    "\n",
    "# get accuracy\n",
    "acc = accuracy(preds, y)\n",
    "print('The accuracy is {0} %.'.format(acc))"
   ]
  },
  {
   "cell_type": "code",
   "execution_count": 0,
   "metadata": {
    "colab": {},
    "colab_type": "code",
    "id": "JK-IsI3NKti1"
   },
   "outputs": [],
   "source": [
    "interp.plot_top_losses(9)"
   ]
  },
  {
   "cell_type": "code",
   "execution_count": 0,
   "metadata": {
    "colab": {},
    "colab_type": "code",
    "id": "ulJNBzLVzn_q"
   },
   "outputs": [],
   "source": [
    "from sklearn.metrics import roc_curve, auc\n",
    "# probs from log preds\n",
    "probs = np.exp(preds[:,1])\n",
    "# Compute ROC curve\n",
    "fpr, tpr, thresholds = roc_curve(y, probs, pos_label=1)\n",
    "\n",
    "# Compute ROC area\n",
    "roc_auc = auc(fpr, tpr)\n",
    "print('ROC area is {0}'.format(roc_auc))"
   ]
  },
  {
   "cell_type": "code",
   "execution_count": 0,
   "metadata": {
    "colab": {},
    "colab_type": "code",
    "id": "dWGleFOzzo9D"
   },
   "outputs": [],
   "source": [
    "plt.figure()\n",
    "plt.plot(fpr, tpr, color='darkorange', label='ROC curve (area = %0.2f)' % roc_auc)\n",
    "plt.plot([0, 1], [0, 1], color='navy', linestyle='--')\n",
    "plt.xlim([-0.01, 1.0])\n",
    "plt.ylim([0.0, 1.01])\n",
    "plt.xlabel('False Positive Rate')\n",
    "plt.ylabel('True Positive Rate')\n",
    "plt.title('Receiver operating characteristic')\n",
    "plt.legend(loc=\"lower right\")"
   ]
  },
  {
   "cell_type": "markdown",
   "metadata": {
    "colab_type": "text",
    "id": "O_FaFZ8pTRYP"
   },
   "source": [
    "## Putting your model in production"
   ]
  },
  {
   "cell_type": "code",
   "execution_count": 0,
   "metadata": {
    "colab": {},
    "colab_type": "code",
    "id": "DWC7863dTS4-"
   },
   "outputs": [],
   "source": [
    "learn.export()"
   ]
  },
  {
   "cell_type": "code",
   "execution_count": 0,
   "metadata": {
    "colab": {},
    "colab_type": "code",
    "id": "dB9vEVm1TVXu"
   },
   "outputs": [],
   "source": [
    "defaults.device = torch.device('cpu')"
   ]
  },
  {
   "cell_type": "code",
   "execution_count": 0,
   "metadata": {
    "colab": {},
    "colab_type": "code",
    "id": "wJX7UUfNT22x"
   },
   "outputs": [],
   "source": [
    "img1 = open_image(path1/'utz/IMG_2939.jpg')\n",
    "img1\n",
    "\n",
    "# pred_class,pred_idx,outputs = learn.predict(img)\n",
    "pred_class = learn.predict(img1)\n",
    "pred_class\n",
    "# result: it predicted the image as a “utz” with ..% probs"
   ]
  },
  {
   "cell_type": "code",
   "execution_count": 0,
   "metadata": {
    "colab": {},
    "colab_type": "code",
    "id": "_gQAjY7BdWbY"
   },
   "outputs": [],
   "source": [
    "img2 = open_image(path/'msc/IMG_8448.JPG')\n",
    "img2\n",
    "\n",
    "# pred_class,pred_idx,outputs = learn.predict(img)\n",
    "pred_class = learn.predict(img2)\n",
    "pred_class\n",
    "# result: it predicted the image as a “msc” with ..% probs"
   ]
  },
  {
   "cell_type": "code",
   "execution_count": 0,
   "metadata": {
    "colab": {},
    "colab_type": "code",
    "id": "KY0Ee0hMdX1f"
   },
   "outputs": [],
   "source": [
    "img3 = open_image(path/'utz'/'00000001.png')\n",
    "img3\n",
    "\n",
    "# pred_class,pred_idx,outputs = learn.predict(img)\n",
    "pred_class = learn.predict(img3)\n",
    "pred_class\n",
    "# result: it predicted the image as a “utz” with ..% probs"
   ]
  },
  {
   "cell_type": "code",
   "execution_count": 0,
   "metadata": {
    "colab": {},
    "colab_type": "code",
    "id": "97P8iTAlURzl"
   },
   "outputs": [],
   "source": [
    "learn = load_learner(path)"
   ]
  },
  {
   "cell_type": "markdown",
   "metadata": {
    "colab_type": "text",
    "id": "WRlu1qTPJYwr"
   },
   "source": [
    "## Deploy"
   ]
  },
  {
   "cell_type": "code",
   "execution_count": 0,
   "metadata": {
    "colab": {},
    "colab_type": "code",
    "id": "5vLcOHCBJaWv"
   },
   "outputs": [],
   "source": [
    "# This will create an export.pkl file that you'll need to copy with your model file if you want to deploy it on another device.\n",
    "# This saves the internal information (classes, etc) need for inference in a file named 'export.pkl'. \n",
    "learn.export('./export1.pkl')"
   ]
  },
  {
   "cell_type": "code",
   "execution_count": 0,
   "metadata": {
    "colab": {},
    "colab_type": "code",
    "id": "cJULoRPaRlat"
   },
   "outputs": [],
   "source": [
    "######## RUN THIS ON A NEW MACHINE ##########\n",
    "from fastai.vision import * # fastai 1.0\n",
    "from fastai import *\n",
    "from torchvision.models import *\n",
    "\n",
    "arch = resnet34       # specify model architecture\n",
    "MODEL_PATH = str(arch).split()[1] + '_stage2'\n",
    "empty_data = ImageDataBunch.load_empty('./') #this will look for a file named export.pkl in the specified path\n",
    "learner = create_cnn(empty_data, arch).load(MODEL_PATH)"
   ]
  },
  {
   "cell_type": "code",
   "execution_count": 0,
   "metadata": {
    "colab": {},
    "colab_type": "code",
    "id": "PN-MIr5I_zpe"
   },
   "outputs": [],
   "source": [
    "classes = data.classes\n",
    "classes"
   ]
  },
  {
   "cell_type": "code",
   "execution_count": 0,
   "metadata": {
    "colab": {},
    "colab_type": "code",
    "id": "__371Fw0Rjv1"
   },
   "outputs": [],
   "source": [
    "path1 = Path(\"/content/drive/Shared drives/Class 15/train-v6\") \n",
    "img = open_image(path1/'zon.png')\n",
    "\n",
    "## predict and visualize\n",
    "img.show(y=learn.predict(img)[0])\n",
    "print('This is a ' + classes[int(learn.predict(img)[0])] + ' quality mark.')"
   ]
  },
  {
   "cell_type": "code",
   "execution_count": 0,
   "metadata": {
    "colab": {},
    "colab_type": "code",
    "id": "KiTt-JnXHMSI"
   },
   "outputs": [],
   "source": [
    "model = pickle.load(open(Path(\"/content/drive/Shared drives/Class 15/train-v6/export1.pkl\"), 'rb'))"
   ]
  },
  {
   "cell_type": "code",
   "execution_count": 0,
   "metadata": {
    "colab": {},
    "colab_type": "code",
    "id": "mJKI-cnl11kv"
   },
   "outputs": [],
   "source": [
    "model"
   ]
  }
 ],
 "metadata": {
  "accelerator": "TPU",
  "colab": {
   "collapsed_sections": [
    "DYDAmWQXRicq"
   ],
   "name": "FastAI_keurmerken.ipynb",
   "private_outputs": true,
   "provenance": []
  },
  "kernelspec": {
   "display_name": "Python 3",
   "language": "python",
   "name": "python3"
  },
  "language_info": {
   "codemirror_mode": {
    "name": "ipython",
    "version": 3
   },
   "file_extension": ".py",
   "mimetype": "text/x-python",
   "name": "python",
   "nbconvert_exporter": "python",
   "pygments_lexer": "ipython3",
   "version": "3.7.3"
  }
 },
 "nbformat": 4,
 "nbformat_minor": 1
}
